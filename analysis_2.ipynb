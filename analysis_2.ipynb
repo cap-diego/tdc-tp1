{
 "cells": [
  {
   "cell_type": "code",
   "execution_count": 13,
   "id": "4de81ad3-12d4-4d57-b18b-2509cb3cb9c5",
   "metadata": {},
   "outputs": [],
   "source": [
    "import pandas as pd\n",
    "import matplotlib.pyplot as plt\n",
    "import numpy as np"
   ]
  },
  {
   "cell_type": "code",
   "execution_count": null,
   "id": "a206c8ff-a5f8-4ca2-ac71-12dd4139e7e4",
   "metadata": {},
   "outputs": [],
   "source": []
  },
  {
   "cell_type": "code",
   "execution_count": 14,
   "id": "43b7570f-dc5b-4ce3-b0af-9050757be013",
   "metadata": {},
   "outputs": [],
   "source": [
    "Red_1 = \"ws_4\"\n",
    "Red_2 = \"Captura-Agus-Wireshark\"\n",
    "Red_3 = \"lion\"\n",
    "results_dir_fmt = \"results/analysis_2/{red}_{file}\""
   ]
  },
  {
   "cell_type": "code",
   "execution_count": 15,
   "id": "58014ea6-6b24-4977-ac90-c469be979dae",
   "metadata": {},
   "outputs": [],
   "source": [
    "def load_dfs_by_red(red):\n",
    "    prot_perc = pd.read_csv(results_dir_fmt.format(red=red, file=\"protocol_percentage.csv\"))\n",
    "\n",
    "    symbol_freq = pd.read_csv(results_dir_fmt.format(red=red, file=\"symbol_frequency.csv\"))\n",
    "\n",
    "    info = pd.read_csv(results_dir_fmt.format(red=red, file=\"information.csv\"))\n",
    "\n",
    "    entropy = pd.read_csv(results_dir_fmt.format(red=red, file=\"entropy.csv\"))\n",
    "    \n",
    "    return (prot_perc, symbol_freq, info, entropy)\n",
    "    "
   ]
  },
  {
   "cell_type": "code",
   "execution_count": 28,
   "id": "2bdb087e-51bd-4022-8a74-10dcd6d1e554",
   "metadata": {},
   "outputs": [],
   "source": [
    "def draw_pie(_df, outputname):\n",
    "    plt.pie(_df[\"value\"], labels = _df[\"type\"], labeldistance = None, autopct='%1.2f%%', pctdistance=0.7)\n",
    "    plt.legend()\n",
    "\n",
    "    plt.savefig('./results/analysis_2/imgs/{}.png'.format(outputname))\n",
    "    plt.show()\n"
   ]
  },
  {
   "cell_type": "code",
   "execution_count": null,
   "id": "0eace8fa-9941-4351-881b-1b4593524cf7",
   "metadata": {},
   "outputs": [],
   "source": []
  },
  {
   "cell_type": "code",
   "execution_count": null,
   "id": "e955b017-0c2c-4805-9477-d5eb99f0090b",
   "metadata": {},
   "outputs": [],
   "source": []
  },
  {
   "cell_type": "code",
   "execution_count": 59,
   "id": "0349087f-ef79-4a89-b5ce-5a5deadd5555",
   "metadata": {},
   "outputs": [],
   "source": [
    "def draw_info_by_proto(_df_info, red, _df_entropy, outputname):\n",
    "    plt.bar(_df_info[\"type\"], _df_info[\"value\"])\n",
    "    plt.xlabel(\"Protocolo\")\n",
    "    plt.ylabel(\"Information\")\n",
    "\n",
    "    entropy = _df_entropy[_df_entropy[\"dataset\"]==red][\"value\"].item()\n",
    "    plt.axhline(y=entropy, color='r', linestyle='-')\n",
    "    plt.rcParams[\"figure.figsize\"] = (10,5)\n",
    "    entropy_str = \"{:.4f}\".format(entropy)\n",
    "    plt.text( x = -1.25, y = entropy, s = 'Entropia: '+ str(entropy_str))\n",
    "    plt.xticks(rotation=40, ha='right')\n",
    "    plt.savefig('./results/analysis_2/imgs/{}.png'.format(outputname))\n",
    "    plt.show()\n"
   ]
  },
  {
   "cell_type": "markdown",
   "id": "159a6517-2c7e-4800-9054-2179f5cb4fa7",
   "metadata": {},
   "source": [
    "# Read source - Red 1"
   ]
  },
  {
   "cell_type": "code",
   "execution_count": 34,
   "id": "5c53c69a-85df-44e8-9585-42b38cac4558",
   "metadata": {},
   "outputs": [],
   "source": [
    "df_Red_1 = pd.read_csv(\"Capturas_csv/\" + Red_1 +\".csv\")\n",
    "df_Red_1_prot_perc, df_Red_1_symbol_freq, df_Red_1_info, df_Red_1_entropy = load_dfs_by_red(Red_1)\n"
   ]
  },
  {
   "cell_type": "code",
   "execution_count": null,
   "id": "267c3393-7b16-408e-ac18-ad1cf9ac5aa5",
   "metadata": {},
   "outputs": [],
   "source": []
  },
  {
   "cell_type": "markdown",
   "id": "93d14d56-8684-4841-9406-dd2afded3a31",
   "metadata": {},
   "source": [
    "# Read source - Red 2"
   ]
  },
  {
   "cell_type": "code",
   "execution_count": 24,
   "id": "17e2ee6f-3ce1-48d6-8ad6-fcda6aa9b55e",
   "metadata": {},
   "outputs": [],
   "source": [
    "df_Red_2 = pd.read_csv(\"Capturas_csv/\" + Red_2 +\".csv\")\n",
    "df_Red_2_prot_perc, df_Red_2_symbol_freq, df_Red_2_info, df_Red_2_entropy = load_dfs_by_red(Red_2)"
   ]
  },
  {
   "cell_type": "code",
   "execution_count": null,
   "id": "473abecb-875a-43ae-8ff5-bd3666df0afd",
   "metadata": {},
   "outputs": [],
   "source": []
  },
  {
   "cell_type": "markdown",
   "id": "d54bdeb2-79ab-4af7-a69b-cc307f5cd5c9",
   "metadata": {},
   "source": [
    "# Read source - Red 3"
   ]
  },
  {
   "cell_type": "code",
   "execution_count": 25,
   "id": "205ae2a0-e983-4f02-b51a-179015826eec",
   "metadata": {},
   "outputs": [],
   "source": [
    "df_Red_3 = pd.read_csv(\"Capturas_csv/\" + Red_3 +\".csv\")\n",
    "df_Red_3_prot_perc, df_Red_3_symbol_freq, df_Red_3_info, df_Red_3_entropy = load_dfs_by_red(Red_3)"
   ]
  },
  {
   "cell_type": "code",
   "execution_count": null,
   "id": "3961947c-8c58-4948-90e5-e6dbb30f8e6f",
   "metadata": {},
   "outputs": [],
   "source": []
  },
  {
   "cell_type": "markdown",
   "id": "8c668916-73a0-4281-85b4-3c70e588d071",
   "metadata": {},
   "source": [
    "# Merge entropy - Red 1, Red 2, Red 3"
   ]
  },
  {
   "cell_type": "code",
   "execution_count": 26,
   "id": "3e5e3a29-f896-4249-9948-63c07d534fc9",
   "metadata": {},
   "outputs": [
    {
     "data": {
      "text/html": [
       "<div>\n",
       "<style scoped>\n",
       "    .dataframe tbody tr th:only-of-type {\n",
       "        vertical-align: middle;\n",
       "    }\n",
       "\n",
       "    .dataframe tbody tr th {\n",
       "        vertical-align: top;\n",
       "    }\n",
       "\n",
       "    .dataframe thead th {\n",
       "        text-align: right;\n",
       "    }\n",
       "</style>\n",
       "<table border=\"1\" class=\"dataframe\">\n",
       "  <thead>\n",
       "    <tr style=\"text-align: right;\">\n",
       "      <th></th>\n",
       "      <th>dataset</th>\n",
       "      <th>value</th>\n",
       "    </tr>\n",
       "  </thead>\n",
       "  <tbody>\n",
       "    <tr>\n",
       "      <th>0</th>\n",
       "      <td>ws_4</td>\n",
       "      <td>0.701811</td>\n",
       "    </tr>\n",
       "    <tr>\n",
       "      <th>0</th>\n",
       "      <td>Captura-Agus-Wireshark</td>\n",
       "      <td>1.191171</td>\n",
       "    </tr>\n",
       "    <tr>\n",
       "      <th>0</th>\n",
       "      <td>lion</td>\n",
       "      <td>1.257434</td>\n",
       "    </tr>\n",
       "  </tbody>\n",
       "</table>\n",
       "</div>"
      ],
      "text/plain": [
       "                  dataset     value\n",
       "0                    ws_4  0.701811\n",
       "0  Captura-Agus-Wireshark  1.191171\n",
       "0                    lion  1.257434"
      ]
     },
     "execution_count": 26,
     "metadata": {},
     "output_type": "execute_result"
    }
   ],
   "source": [
    "df_entropy = pd.concat([df_Red_1_entropy, df_Red_2_entropy, df_Red_3_entropy])\n",
    "df_entropy"
   ]
  },
  {
   "cell_type": "code",
   "execution_count": 32,
   "id": "25c6a7ac-9a9d-41dc-87a5-369bc7577ed7",
   "metadata": {},
   "outputs": [
    {
     "data": {
      "text/html": [
       "<div>\n",
       "<style scoped>\n",
       "    .dataframe tbody tr th:only-of-type {\n",
       "        vertical-align: middle;\n",
       "    }\n",
       "\n",
       "    .dataframe tbody tr th {\n",
       "        vertical-align: top;\n",
       "    }\n",
       "\n",
       "    .dataframe thead th {\n",
       "        text-align: right;\n",
       "    }\n",
       "</style>\n",
       "<table border=\"1\" class=\"dataframe\">\n",
       "  <thead>\n",
       "    <tr style=\"text-align: right;\">\n",
       "      <th></th>\n",
       "      <th>type</th>\n",
       "      <th>value</th>\n",
       "    </tr>\n",
       "  </thead>\n",
       "  <tbody>\n",
       "    <tr>\n",
       "      <th>0</th>\n",
       "      <td>192.168.0.36</td>\n",
       "      <td>75.176305</td>\n",
       "    </tr>\n",
       "    <tr>\n",
       "      <th>1</th>\n",
       "      <td>192.168.0.78</td>\n",
       "      <td>11.424542</td>\n",
       "    </tr>\n",
       "    <tr>\n",
       "      <th>2</th>\n",
       "      <td>192.168.0.1</td>\n",
       "      <td>11.142454</td>\n",
       "    </tr>\n",
       "    <tr>\n",
       "      <th>3</th>\n",
       "      <td>192.168.0.8</td>\n",
       "      <td>1.128350</td>\n",
       "    </tr>\n",
       "    <tr>\n",
       "      <th>4</th>\n",
       "      <td>192.168.0.47</td>\n",
       "      <td>0.282087</td>\n",
       "    </tr>\n",
       "    <tr>\n",
       "      <th>5</th>\n",
       "      <td>0.0.0.0</td>\n",
       "      <td>0.282087</td>\n",
       "    </tr>\n",
       "    <tr>\n",
       "      <th>6</th>\n",
       "      <td>192.168.0.221</td>\n",
       "      <td>0.282087</td>\n",
       "    </tr>\n",
       "    <tr>\n",
       "      <th>7</th>\n",
       "      <td>192.168.0.79</td>\n",
       "      <td>0.141044</td>\n",
       "    </tr>\n",
       "    <tr>\n",
       "      <th>8</th>\n",
       "      <td>192.168.0.125</td>\n",
       "      <td>0.141044</td>\n",
       "    </tr>\n",
       "  </tbody>\n",
       "</table>\n",
       "</div>"
      ],
      "text/plain": [
       "            type      value\n",
       "0   192.168.0.36  75.176305\n",
       "1   192.168.0.78  11.424542\n",
       "2    192.168.0.1  11.142454\n",
       "3    192.168.0.8   1.128350\n",
       "4   192.168.0.47   0.282087\n",
       "5        0.0.0.0   0.282087\n",
       "6  192.168.0.221   0.282087\n",
       "7   192.168.0.79   0.141044\n",
       "8  192.168.0.125   0.141044"
      ]
     },
     "execution_count": 32,
     "metadata": {},
     "output_type": "execute_result"
    }
   ],
   "source": [
    "df_Red_2_prot_perc"
   ]
  },
  {
   "cell_type": "markdown",
   "id": "bf3e0c46-78b5-464b-a833-9cba5a1c9328",
   "metadata": {},
   "source": [
    "# Informacion por protocolo - Red 1"
   ]
  },
  {
   "cell_type": "code",
   "execution_count": 60,
   "id": "54a6b0b5-df88-4a07-9868-433281a7753f",
   "metadata": {},
   "outputs": [
    {
     "data": {
      "image/png": "[encoded data removed]",
      "text/plain": [
       "<Figure size 720x360 with 1 Axes>"
      ]
     },
     "metadata": {
      "needs_background": "light"
     },
     "output_type": "display_data"
    }
   ],
   "source": [
    "draw_info_by_proto(df_Red_1_info, Red_1, df_Red_1_entropy, \"red_1_info\")\n"
   ]
  },
  {
   "cell_type": "code",
   "execution_count": null,
   "id": "a462e61d-45a4-4f93-b32b-ff25b61e3eaf",
   "metadata": {},
   "outputs": [],
   "source": []
  },
  {
   "cell_type": "markdown",
   "id": "f1af35a3-c63c-4b25-8aee-5e229fbda7cc",
   "metadata": {},
   "source": [
    "# Informacion por protocolo - Red 2"
   ]
  },
  {
   "cell_type": "code",
   "execution_count": 61,
   "id": "ea37c84d-aacb-457a-8d7d-2ac6039980c9",
   "metadata": {},
   "outputs": [
    {
     "data": {
      "image/png": "[encoded data removed]",
      "text/plain": [
       "<Figure size 720x360 with 1 Axes>"
      ]
     },
     "metadata": {
      "needs_background": "light"
     },
     "output_type": "display_data"
    }
   ],
   "source": [
    "draw_info_by_proto(df_Red_2_info, Red_2, df_Red_2_entropy, \"red_2_info\")\n"
   ]
  },
  {
   "cell_type": "code",
   "execution_count": null,
   "id": "d66f23c1-ae72-478f-bba2-a5d952d99f27",
   "metadata": {},
   "outputs": [],
   "source": []
  },
  {
   "cell_type": "markdown",
   "id": "a145f149-e262-40f0-b161-a2516bcf4423",
   "metadata": {},
   "source": [
    "# Informacion por protocolo - Red 3"
   ]
  },
  {
   "cell_type": "code",
   "execution_count": 62,
   "id": "aeb922d5-fff3-4f2f-9d2b-69427592319a",
   "metadata": {},
   "outputs": [
    {
     "data": {
      "image/png": "[encoded data removed]",
      "text/plain": [
       "<Figure size 720x360 with 1 Axes>"
      ]
     },
     "metadata": {
      "needs_background": "light"
     },
     "output_type": "display_data"
    }
   ],
   "source": [
    "draw_info_by_proto(df_Red_3_info, Red_3, df_Red_3_entropy, \"red_3_info\")\n"
   ]
  },
  {
   "cell_type": "code",
   "execution_count": null,
   "id": "389ba32f-68ba-49fb-baf4-cda487252239",
   "metadata": {},
   "outputs": [],
   "source": []
  },
  {
   "cell_type": "markdown",
   "id": "008afc37-97e5-4911-a6e2-c6320ae82842",
   "metadata": {},
   "source": [
    "# Porcentaje tráfico Red 1"
   ]
  },
  {
   "cell_type": "code",
   "execution_count": 63,
   "id": "3c98cf00-e84b-41cf-9ce9-f9d64d22cc68",
   "metadata": {},
   "outputs": [
    {
     "data": {
      "image/png": "[encoded data removed]",
      "text/plain": [
       "<Figure size 720x360 with 1 Axes>"
      ]
     },
     "metadata": {},
     "output_type": "display_data"
    }
   ],
   "source": [
    "draw_pie(df_Red_3_symbol_freq, \"red_1_broadcast_unicast\")\n",
    "\n"
   ]
  },
  {
   "cell_type": "code",
   "execution_count": 19,
   "id": "13547826-018e-41f8-b5c8-727381ed33dc",
   "metadata": {},
   "outputs": [
    {
     "data": {
      "text/html": [
       "<div>\n",
       "<style scoped>\n",
       "    .dataframe tbody tr th:only-of-type {\n",
       "        vertical-align: middle;\n",
       "    }\n",
       "\n",
       "    .dataframe tbody tr th {\n",
       "        vertical-align: top;\n",
       "    }\n",
       "\n",
       "    .dataframe thead th {\n",
       "        text-align: right;\n",
       "    }\n",
       "</style>\n",
       "<table border=\"1\" class=\"dataframe\">\n",
       "  <thead>\n",
       "    <tr style=\"text-align: right;\">\n",
       "      <th></th>\n",
       "      <th>type</th>\n",
       "      <th>value</th>\n",
       "      <th>p</th>\n",
       "    </tr>\n",
       "  </thead>\n",
       "  <tbody>\n",
       "    <tr>\n",
       "      <th>0</th>\n",
       "      <td>BROADCAST</td>\n",
       "      <td>56</td>\n",
       "      <td>0.001417</td>\n",
       "    </tr>\n",
       "    <tr>\n",
       "      <th>1</th>\n",
       "      <td>UNICAST</td>\n",
       "      <td>39455</td>\n",
       "      <td>0.998583</td>\n",
       "    </tr>\n",
       "  </tbody>\n",
       "</table>\n",
       "</div>"
      ],
      "text/plain": [
       "        type  value         p\n",
       "0  BROADCAST     56  0.001417\n",
       "1    UNICAST  39455  0.998583"
      ]
     },
     "execution_count": 19,
     "metadata": {},
     "output_type": "execute_result"
    }
   ],
   "source": [
    "df_Red_1_broadunicast[\"p\"] =  df_Red_1_broadunicast['value']/df_Red_1_broadunicast['value'].sum()\n",
    "df_Red_1_broadunicast"
   ]
  },
  {
   "cell_type": "markdown",
   "id": "c7e60cf6-54e9-4e30-ad4a-7fc075350abd",
   "metadata": {},
   "source": [
    "# Porcentaje tráfico Red 2"
   ]
  },
  {
   "cell_type": "code",
   "execution_count": 65,
   "id": "89d967ad-d714-42c2-933f-a739efc83b58",
   "metadata": {},
   "outputs": [
    {
     "data": {
      "image/png": "[encoded data removed]",
      "text/plain": [
       "<Figure size 720x360 with 1 Axes>"
      ]
     },
     "metadata": {},
     "output_type": "display_data"
    }
   ],
   "source": [
    "draw_pie(df_Red_3_symbol_freq, \"red_2_broadcast_unicast\")\n"
   ]
  },
  {
   "cell_type": "code",
   "execution_count": 66,
   "id": "7c1a3b8c-b95a-4af6-a2d0-386c38cea894",
   "metadata": {},
   "outputs": [
    {
     "ename": "NameError",
     "evalue": "name 'df_Red_2_broadunicast' is not defined",
     "output_type": "error",
     "traceback": [
      "\u001b[0;31m---------------------------------------------------------------------------\u001b[0m",
      "\u001b[0;31mNameError\u001b[0m                                 Traceback (most recent call last)",
      "\u001b[0;32m/var/folders/xn/7r_77mhs5q57f148g277d6sspmz18w/T/ipykernel_71950/3820287755.py\u001b[0m in \u001b[0;36m<module>\u001b[0;34m\u001b[0m\n\u001b[0;32m----> 1\u001b[0;31m \u001b[0mdf_Red_2_broadunicast\u001b[0m\u001b[0;34m[\u001b[0m\u001b[0;34m\"p\"\u001b[0m\u001b[0;34m]\u001b[0m \u001b[0;34m=\u001b[0m  \u001b[0mdf_Red_2_broadunicast\u001b[0m\u001b[0;34m[\u001b[0m\u001b[0;34m'value'\u001b[0m\u001b[0;34m]\u001b[0m\u001b[0;34m/\u001b[0m\u001b[0mdf_Red_2_broadunicast\u001b[0m\u001b[0;34m[\u001b[0m\u001b[0;34m'value'\u001b[0m\u001b[0;34m]\u001b[0m\u001b[0;34m.\u001b[0m\u001b[0msum\u001b[0m\u001b[0;34m(\u001b[0m\u001b[0;34m)\u001b[0m\u001b[0;34m\u001b[0m\u001b[0;34m\u001b[0m\u001b[0m\n\u001b[0m\u001b[1;32m      2\u001b[0m \u001b[0mdf_Red_2_broadunicast\u001b[0m\u001b[0;34m\u001b[0m\u001b[0;34m\u001b[0m\u001b[0m\n",
      "\u001b[0;31mNameError\u001b[0m: name 'df_Red_2_broadunicast' is not defined"
     ]
    }
   ],
   "source": [
    "df_Red_2_broadunicast[\"p\"] =  df_Red_2_broadunicast['value']/df_Red_2_broadunicast['value'].sum()\n",
    "df_Red_2_broadunicast"
   ]
  },
  {
   "cell_type": "markdown",
   "id": "ae8104c6-5a1d-4831-9b92-9e13c8a4bd02",
   "metadata": {},
   "source": [
    "# Porcentaje tráfico Red 3"
   ]
  },
  {
   "cell_type": "code",
   "execution_count": null,
   "id": "8e923c6b-b9f1-4947-9b49-d04218e86d4b",
   "metadata": {},
   "outputs": [],
   "source": []
  },
  {
   "cell_type": "code",
   "execution_count": 67,
   "id": "bd637375-c5c4-4151-b381-820a4395c720",
   "metadata": {},
   "outputs": [
    {
     "data": {
      "image/png": "[encoded data removed]",
      "text/plain": [
       "<Figure size 720x360 with 1 Axes>"
      ]
     },
     "metadata": {},
     "output_type": "display_data"
    }
   ],
   "source": [
    "draw_pie(df_Red_3_symbol_freq, \"red_3_broadcast_unicast\")\n"
   ]
  },
  {
   "cell_type": "code",
   "execution_count": 68,
   "id": "0a03cbf2-22c6-456f-a7b0-985ab7d0f2cc",
   "metadata": {},
   "outputs": [
    {
     "data": {
      "text/html": [
       "<div>\n",
       "<style scoped>\n",
       "    .dataframe tbody tr th:only-of-type {\n",
       "        vertical-align: middle;\n",
       "    }\n",
       "\n",
       "    .dataframe tbody tr th {\n",
       "        vertical-align: top;\n",
       "    }\n",
       "\n",
       "    .dataframe thead th {\n",
       "        text-align: right;\n",
       "    }\n",
       "</style>\n",
       "<table border=\"1\" class=\"dataframe\">\n",
       "  <thead>\n",
       "    <tr style=\"text-align: right;\">\n",
       "      <th></th>\n",
       "      <th>type</th>\n",
       "      <th>value</th>\n",
       "      <th>p</th>\n",
       "    </tr>\n",
       "  </thead>\n",
       "  <tbody>\n",
       "    <tr>\n",
       "      <th>0</th>\n",
       "      <td>192.168.0.1</td>\n",
       "      <td>0.525210</td>\n",
       "      <td>0.525210</td>\n",
       "    </tr>\n",
       "    <tr>\n",
       "      <th>1</th>\n",
       "      <td>192.168.0.86</td>\n",
       "      <td>0.432773</td>\n",
       "      <td>0.432773</td>\n",
       "    </tr>\n",
       "    <tr>\n",
       "      <th>2</th>\n",
       "      <td>192.168.0.217</td>\n",
       "      <td>0.025210</td>\n",
       "      <td>0.025210</td>\n",
       "    </tr>\n",
       "    <tr>\n",
       "      <th>3</th>\n",
       "      <td>0.0.0.0</td>\n",
       "      <td>0.012605</td>\n",
       "      <td>0.012605</td>\n",
       "    </tr>\n",
       "    <tr>\n",
       "      <th>4</th>\n",
       "      <td>192.168.0.148</td>\n",
       "      <td>0.004202</td>\n",
       "      <td>0.004202</td>\n",
       "    </tr>\n",
       "  </tbody>\n",
       "</table>\n",
       "</div>"
      ],
      "text/plain": [
       "            type     value         p\n",
       "0    192.168.0.1  0.525210  0.525210\n",
       "1   192.168.0.86  0.432773  0.432773\n",
       "2  192.168.0.217  0.025210  0.025210\n",
       "3        0.0.0.0  0.012605  0.012605\n",
       "4  192.168.0.148  0.004202  0.004202"
      ]
     },
     "execution_count": 68,
     "metadata": {},
     "output_type": "execute_result"
    }
   ],
   "source": [
    "df_Red_3_symbol_freq[\"p\"] =  df_Red_3_symbol_freq['value']/df_Red_3_symbol_freq['value'].sum()\n",
    "df_Red_3_symbol_freq"
   ]
  },
  {
   "cell_type": "code",
   "execution_count": null,
   "id": "757deddd-c568-4b96-8817-7cd27722b1da",
   "metadata": {},
   "outputs": [],
   "source": []
  },
  {
   "cell_type": "code",
   "execution_count": null,
   "id": "670688b3-e6b1-4cf5-bfb0-876596881dcc",
   "metadata": {},
   "outputs": [],
   "source": []
  },
  {
   "cell_type": "code",
   "execution_count": null,
   "id": "f17d9cf0-0b2e-4ddf-9dcb-f7d55ab7e712",
   "metadata": {},
   "outputs": [],
   "source": []
  },
  {
   "cell_type": "code",
   "execution_count": null,
   "id": "e87ddcfd-03ec-426f-a78c-8552b3cfe324",
   "metadata": {},
   "outputs": [],
   "source": []
  }
 ],
 "metadata": {
  "kernelspec": {
   "display_name": "Python 3 (ipykernel)",
   "language": "python",
   "name": "python3"
  },
  "language_info": {
   "codemirror_mode": {
    "name": "ipython",
    "version": 3
   },
   "file_extension": ".py",
   "mimetype": "text/x-python",
   "name": "python",
   "nbconvert_exporter": "python",
   "pygments_lexer": "ipython3",
   "version": "3.8.2"
  }
 },
 "nbformat": 4,
 "nbformat_minor": 5
}

{
 "cells": [
  {
   "cell_type": "code",
   "execution_count": 112,
   "id": "854c05b3-6b0b-4837-ac1d-ebedc1573852",
   "metadata": {},
   "outputs": [],
   "source": [
    "import pandas as pd\n",
    "import matplotlib.pyplot as plt"
   ]
  },
  {
   "cell_type": "code",
   "execution_count": null,
   "id": "6104c928-e4d3-4f12-9601-f8ef1c567e81",
   "metadata": {},
   "outputs": [],
   "source": []
  },
  {
   "cell_type": "code",
   "execution_count": 113,
   "id": "8454eba5-4c78-43ea-99e9-70cbd54a3be5",
   "metadata": {},
   "outputs": [],
   "source": [
    "dataset = \"ws_1.pcapng\"\n",
    "df = pd.read_csv(\"input/ws_1.csv\")\n",
    "df_freq = pd.read_csv(\"results/frequency.csv\")\n",
    "df_info = pd.read_csv(\"results/information.csv\")\n",
    "df_entropy = pd.read_csv(\"results/entropy.csv\")\n"
   ]
  },
  {
   "cell_type": "code",
   "execution_count": null,
   "id": "71f8bd3e-c36d-4c78-b881-25463d4354b2",
   "metadata": {},
   "outputs": [],
   "source": []
  },
  {
   "cell_type": "code",
   "execution_count": 114,
   "id": "6ef0e543-d4c2-495e-bec4-067f1e541777",
   "metadata": {},
   "outputs": [
    {
     "data": {
      "text/html": [
       "<div>\n",
       "<style scoped>\n",
       "    .dataframe tbody tr th:only-of-type {\n",
       "        vertical-align: middle;\n",
       "    }\n",
       "\n",
       "    .dataframe tbody tr th {\n",
       "        vertical-align: top;\n",
       "    }\n",
       "\n",
       "    .dataframe thead th {\n",
       "        text-align: right;\n",
       "    }\n",
       "</style>\n",
       "<table border=\"1\" class=\"dataframe\">\n",
       "  <thead>\n",
       "    <tr style=\"text-align: right;\">\n",
       "      <th></th>\n",
       "      <th>No.</th>\n",
       "      <th>Time</th>\n",
       "      <th>Source</th>\n",
       "      <th>Destination</th>\n",
       "      <th>Protocol</th>\n",
       "      <th>Length</th>\n",
       "      <th>Info</th>\n",
       "    </tr>\n",
       "  </thead>\n",
       "  <tbody>\n",
       "    <tr>\n",
       "      <th>0</th>\n",
       "      <td>1</td>\n",
       "      <td>0.000000</td>\n",
       "      <td>192.168.0.1</td>\n",
       "      <td>192.168.0.146</td>\n",
       "      <td>DNS</td>\n",
       "      <td>143</td>\n",
       "      <td>Standard query response 0x93c8 HTTPS e6987.a.a...</td>\n",
       "    </tr>\n",
       "    <tr>\n",
       "      <th>1</th>\n",
       "      <td>2</td>\n",
       "      <td>0.009068</td>\n",
       "      <td>50.18.194.39</td>\n",
       "      <td>192.168.0.146</td>\n",
       "      <td>TCP</td>\n",
       "      <td>66</td>\n",
       "      <td>443  &gt;  49660 [ACK] Seq=1 Ack=1 Win=442 Len=0 ...</td>\n",
       "    </tr>\n",
       "    <tr>\n",
       "      <th>2</th>\n",
       "      <td>3</td>\n",
       "      <td>0.009255</td>\n",
       "      <td>192.168.0.146</td>\n",
       "      <td>50.18.194.39</td>\n",
       "      <td>TLSv1.2</td>\n",
       "      <td>1264</td>\n",
       "      <td>Application Data, Application Data, Applicatio...</td>\n",
       "    </tr>\n",
       "    <tr>\n",
       "      <th>3</th>\n",
       "      <td>4</td>\n",
       "      <td>0.021385</td>\n",
       "      <td>23.77.220.193</td>\n",
       "      <td>192.168.0.146</td>\n",
       "      <td>TCP</td>\n",
       "      <td>74</td>\n",
       "      <td>443  &gt;  49665 [SYN, ACK, ECN] Seq=0 Ack=1 Win=...</td>\n",
       "    </tr>\n",
       "    <tr>\n",
       "      <th>4</th>\n",
       "      <td>5</td>\n",
       "      <td>0.021398</td>\n",
       "      <td>23.77.220.193</td>\n",
       "      <td>192.168.0.146</td>\n",
       "      <td>TCP</td>\n",
       "      <td>74</td>\n",
       "      <td>443  &gt;  49664 [SYN, ACK, ECN] Seq=0 Ack=1 Win=...</td>\n",
       "    </tr>\n",
       "    <tr>\n",
       "      <th>...</th>\n",
       "      <td>...</td>\n",
       "      <td>...</td>\n",
       "      <td>...</td>\n",
       "      <td>...</td>\n",
       "      <td>...</td>\n",
       "      <td>...</td>\n",
       "      <td>...</td>\n",
       "    </tr>\n",
       "    <tr>\n",
       "      <th>100408</th>\n",
       "      <td>100409</td>\n",
       "      <td>2431.510487</td>\n",
       "      <td>192.168.0.208</td>\n",
       "      <td>192.168.0.255</td>\n",
       "      <td>UDP</td>\n",
       "      <td>305</td>\n",
       "      <td>54915  &gt;  54915 Len=263</td>\n",
       "    </tr>\n",
       "    <tr>\n",
       "      <th>100409</th>\n",
       "      <td>100410</td>\n",
       "      <td>2432.539239</td>\n",
       "      <td>192.168.0.208</td>\n",
       "      <td>192.168.0.255</td>\n",
       "      <td>UDP</td>\n",
       "      <td>305</td>\n",
       "      <td>54915  &gt;  54915 Len=263</td>\n",
       "    </tr>\n",
       "    <tr>\n",
       "      <th>100410</th>\n",
       "      <td>100411</td>\n",
       "      <td>2433.558639</td>\n",
       "      <td>192.168.0.208</td>\n",
       "      <td>192.168.0.255</td>\n",
       "      <td>UDP</td>\n",
       "      <td>305</td>\n",
       "      <td>54915  &gt;  54915 Len=263</td>\n",
       "    </tr>\n",
       "    <tr>\n",
       "      <th>100411</th>\n",
       "      <td>100412</td>\n",
       "      <td>2434.582528</td>\n",
       "      <td>192.168.0.208</td>\n",
       "      <td>192.168.0.255</td>\n",
       "      <td>UDP</td>\n",
       "      <td>305</td>\n",
       "      <td>54915  &gt;  54915 Len=263</td>\n",
       "    </tr>\n",
       "    <tr>\n",
       "      <th>100412</th>\n",
       "      <td>100413</td>\n",
       "      <td>2435.504263</td>\n",
       "      <td>192.168.0.208</td>\n",
       "      <td>192.168.0.255</td>\n",
       "      <td>UDP</td>\n",
       "      <td>305</td>\n",
       "      <td>54915  &gt;  54915 Len=263</td>\n",
       "    </tr>\n",
       "  </tbody>\n",
       "</table>\n",
       "<p>100413 rows × 7 columns</p>\n",
       "</div>"
      ],
      "text/plain": [
       "           No.         Time         Source    Destination Protocol  Length  \\\n",
       "0            1     0.000000    192.168.0.1  192.168.0.146      DNS     143   \n",
       "1            2     0.009068   50.18.194.39  192.168.0.146      TCP      66   \n",
       "2            3     0.009255  192.168.0.146   50.18.194.39  TLSv1.2    1264   \n",
       "3            4     0.021385  23.77.220.193  192.168.0.146      TCP      74   \n",
       "4            5     0.021398  23.77.220.193  192.168.0.146      TCP      74   \n",
       "...        ...          ...            ...            ...      ...     ...   \n",
       "100408  100409  2431.510487  192.168.0.208  192.168.0.255      UDP     305   \n",
       "100409  100410  2432.539239  192.168.0.208  192.168.0.255      UDP     305   \n",
       "100410  100411  2433.558639  192.168.0.208  192.168.0.255      UDP     305   \n",
       "100411  100412  2434.582528  192.168.0.208  192.168.0.255      UDP     305   \n",
       "100412  100413  2435.504263  192.168.0.208  192.168.0.255      UDP     305   \n",
       "\n",
       "                                                     Info  \n",
       "0       Standard query response 0x93c8 HTTPS e6987.a.a...  \n",
       "1       443  >  49660 [ACK] Seq=1 Ack=1 Win=442 Len=0 ...  \n",
       "2       Application Data, Application Data, Applicatio...  \n",
       "3       443  >  49665 [SYN, ACK, ECN] Seq=0 Ack=1 Win=...  \n",
       "4       443  >  49664 [SYN, ACK, ECN] Seq=0 Ack=1 Win=...  \n",
       "...                                                   ...  \n",
       "100408                            54915  >  54915 Len=263  \n",
       "100409                            54915  >  54915 Len=263  \n",
       "100410                            54915  >  54915 Len=263  \n",
       "100411                            54915  >  54915 Len=263  \n",
       "100412                            54915  >  54915 Len=263  \n",
       "\n",
       "[100413 rows x 7 columns]"
      ]
     },
     "execution_count": 114,
     "metadata": {},
     "output_type": "execute_result"
    }
   ],
   "source": [
    "df"
   ]
  },
  {
   "cell_type": "markdown",
   "id": "54e97a18-f5bc-4b5e-9c92-a854de9eca1d",
   "metadata": {},
   "source": [
    "### Apariciones por protocolo"
   ]
  },
  {
   "cell_type": "code",
   "execution_count": 115,
   "id": "7457737b-a29d-4b6a-a370-9ff6a23c249d",
   "metadata": {},
   "outputs": [
    {
     "data": {
      "text/plain": [
       "<AxesSubplot:xlabel='Protocol'>"
      ]
     },
     "execution_count": 115,
     "metadata": {},
     "output_type": "execute_result"
    },
    {
     "data": {
      "image/png": "[encoded data removed]",
      "text/plain": [
       "<Figure size 432x288 with 1 Axes>"
      ]
     },
     "metadata": {
      "needs_background": "light"
     },
     "output_type": "display_data"
    }
   ],
   "source": [
    "df.value_counts(df.Protocol).plot.bar(rot=40)"
   ]
  },
  {
   "cell_type": "code",
   "execution_count": 116,
   "id": "9ef3420d-de45-40b8-8822-f465125fa32a",
   "metadata": {},
   "outputs": [
    {
     "data": {
      "text/plain": [
       "<AxesSubplot:xlabel='Protocol'>"
      ]
     },
     "execution_count": 116,
     "metadata": {},
     "output_type": "execute_result"
    },
    {
     "data": {
      "image/png": "[encoded data removed]",
      "text/plain": [
       "<Figure size 432x288 with 1 Axes>"
      ]
     },
     "metadata": {
      "needs_background": "light"
     },
     "output_type": "display_data"
    }
   ],
   "source": [
    "# Remove TCP & QUIC values\n",
    "df2=df\n",
    "df2 = df2[df2[\"Protocol\"] != \"TCP\"]\n",
    "df2 = df2[df2[\"Protocol\"] != \"QUIC\"]\n",
    "df2.value_counts(df.Protocol).plot.bar(rot=40)"
   ]
  },
  {
   "cell_type": "markdown",
   "id": "61ec44c8-653e-4b8b-97f7-e217efd2833d",
   "metadata": {},
   "source": [
    "### Frecuencia por protocolo"
   ]
  },
  {
   "cell_type": "code",
   "execution_count": 117,
   "id": "8462ddac-7781-4f40-9a48-55e35491d415",
   "metadata": {},
   "outputs": [
    {
     "data": {
      "text/plain": [
       "<AxesSubplot:xlabel='Protocol'>"
      ]
     },
     "execution_count": 117,
     "metadata": {},
     "output_type": "execute_result"
    },
    {
     "data": {
      "image/png": "[encoded data removed]",
      "text/plain": [
       "<Figure size 432x288 with 1 Axes>"
      ]
     },
     "metadata": {
      "needs_background": "light"
     },
     "output_type": "display_data"
    }
   ],
   "source": [
    "\n",
    "#df[\"count\"] = df.value_counts(df.Protocol)\n",
    "#df.value_counts(df.Protocol)\n",
    "df[\"count\"] = df.groupby(\"Protocol\").sum().Length\n",
    "df.value_counts(df.Protocol, normalize=True).plot.bar(rot=40)\n"
   ]
  },
  {
   "cell_type": "code",
   "execution_count": 118,
   "id": "e924f8a9-b747-4768-a912-05101ecc0c8f",
   "metadata": {},
   "outputs": [
    {
     "data": {
      "text/plain": [
       "0.127615780451732"
      ]
     },
     "execution_count": 118,
     "metadata": {},
     "output_type": "execute_result"
    }
   ],
   "source": [
    "df_entropy[df_entropy[\"dataset\"]==dataset][\"value\"].item()"
   ]
  },
  {
   "cell_type": "markdown",
   "id": "1a6e2949-3227-4f20-9bcd-ac843ec04c33",
   "metadata": {},
   "source": [
    "# Informacion por protocolo"
   ]
  },
  {
   "cell_type": "code",
   "execution_count": 119,
   "id": "2da012ff-d0f8-4ee4-b7af-f43e56989f29",
   "metadata": {},
   "outputs": [
    {
     "data": {
      "image/png": "[encoded data removed]",
      "text/plain": [
       "<Figure size 432x288 with 1 Axes>"
      ]
     },
     "metadata": {
      "needs_background": "light"
     },
     "output_type": "display_data"
    }
   ],
   "source": [
    "plt.bar(df_info[\"type\"], df_info[\"value\"])\n",
    "plt.xlabel(\"Protocolo\")\n",
    "plt.ylabel(\"Information\")\n",
    "entropy = df_entropy[df_entropy[\"dataset\"]==dataset][\"value\"].item()\n",
    "plt.axhline(y=entropy, color='r', linestyle='-')\n",
    "plt.text(-0.8,entropy,'Entropia')\n",
    "plt.show()"
   ]
  },
  {
   "cell_type": "code",
   "execution_count": 120,
   "id": "cf3874c5-94da-42d7-91c6-5f905ea5dcc1",
   "metadata": {},
   "outputs": [
    {
     "data": {
      "text/html": [
       "<div>\n",
       "<style scoped>\n",
       "    .dataframe tbody tr th:only-of-type {\n",
       "        vertical-align: middle;\n",
       "    }\n",
       "\n",
       "    .dataframe tbody tr th {\n",
       "        vertical-align: top;\n",
       "    }\n",
       "\n",
       "    .dataframe thead th {\n",
       "        text-align: right;\n",
       "    }\n",
       "</style>\n",
       "<table border=\"1\" class=\"dataframe\">\n",
       "  <thead>\n",
       "    <tr style=\"text-align: right;\">\n",
       "      <th></th>\n",
       "      <th>type</th>\n",
       "      <th>value</th>\n",
       "    </tr>\n",
       "  </thead>\n",
       "  <tbody>\n",
       "    <tr>\n",
       "      <th>0</th>\n",
       "      <td>IPV4</td>\n",
       "      <td>0.016474</td>\n",
       "    </tr>\n",
       "    <tr>\n",
       "      <th>1</th>\n",
       "      <td>ARP</td>\n",
       "      <td>0.002080</td>\n",
       "    </tr>\n",
       "    <tr>\n",
       "      <th>2</th>\n",
       "      <td>IPV6</td>\n",
       "      <td>0.001183</td>\n",
       "    </tr>\n",
       "  </tbody>\n",
       "</table>\n",
       "</div>"
      ],
      "text/plain": [
       "   type     value\n",
       "0  IPV4  0.016474\n",
       "1   ARP  0.002080\n",
       "2  IPV6  0.001183"
      ]
     },
     "execution_count": 120,
     "metadata": {},
     "output_type": "execute_result"
    }
   ],
   "source": [
    "df_freq"
   ]
  },
  {
   "cell_type": "code",
   "execution_count": null,
   "id": "f58889f9-de10-442c-977f-dbc5f9027670",
   "metadata": {},
   "outputs": [],
   "source": []
  },
  {
   "cell_type": "code",
   "execution_count": null,
   "id": "443d904a-aaec-43e8-bd55-12f3a10742eb",
   "metadata": {},
   "outputs": [],
   "source": []
  }
 ],
 "metadata": {
  "kernelspec": {
   "display_name": "Python 3 (ipykernel)",
   "language": "python",
   "name": "python3"
  },
  "language_info": {
   "codemirror_mode": {
    "name": "ipython",
    "version": 3
   },
   "file_extension": ".py",
   "mimetype": "text/x-python",
   "name": "python",
   "nbconvert_exporter": "python",
   "pygments_lexer": "ipython3",
   "version": "3.8.2"
  }
 },
 "nbformat": 4,
 "nbformat_minor": 5
}

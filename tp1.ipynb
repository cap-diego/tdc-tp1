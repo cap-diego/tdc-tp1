{
 "cells": [
  {
   "cell_type": "code",
   "execution_count": 1,
   "id": "854c05b3-6b0b-4837-ac1d-ebedc1573852",
   "metadata": {},
   "outputs": [],
   "source": [
    "import pandas as pd\n",
    "import matplotlib.pyplot as plt"
   ]
  },
  {
   "cell_type": "code",
   "execution_count": null,
   "id": "6104c928-e4d3-4f12-9601-f8ef1c567e81",
   "metadata": {},
   "outputs": [],
   "source": []
  },
  {
   "cell_type": "code",
   "execution_count": 2,
   "id": "8454eba5-4c78-43ea-99e9-70cbd54a3be5",
   "metadata": {},
   "outputs": [],
   "source": [
    "dataset = \"ws_3\"\n",
    "df = pd.read_csv(\"input/\"+ dataset +\".csv\")\n",
    "df_freq = pd.read_csv(\"results/\"+dataset+\"_frequency.csv\")\n",
    "df_info = pd.read_csv(\"results/\"+dataset+\"_information.csv\")\n",
    "df_entropy = pd.read_csv(\"results/\"+dataset+\"_entropy.csv\")\n",
    "df_broadunicast = pd.read_csv(\"results/\"+dataset+\"_broadcast_unicast.csv\")\n"
   ]
  },
  {
   "cell_type": "code",
   "execution_count": 3,
   "id": "71f8bd3e-c36d-4c78-b881-25463d4354b2",
   "metadata": {},
   "outputs": [
    {
     "data": {
      "text/html": [
       "<div>\n",
       "<style scoped>\n",
       "    .dataframe tbody tr th:only-of-type {\n",
       "        vertical-align: middle;\n",
       "    }\n",
       "\n",
       "    .dataframe tbody tr th {\n",
       "        vertical-align: top;\n",
       "    }\n",
       "\n",
       "    .dataframe thead th {\n",
       "        text-align: right;\n",
       "    }\n",
       "</style>\n",
       "<table border=\"1\" class=\"dataframe\">\n",
       "  <thead>\n",
       "    <tr style=\"text-align: right;\">\n",
       "      <th></th>\n",
       "      <th>dataset</th>\n",
       "      <th>value</th>\n",
       "    </tr>\n",
       "  </thead>\n",
       "  <tbody>\n",
       "    <tr>\n",
       "      <th>0</th>\n",
       "      <td>ws_3</td>\n",
       "      <td>0.047406</td>\n",
       "    </tr>\n",
       "  </tbody>\n",
       "</table>\n",
       "</div>"
      ],
      "text/plain": [
       "  dataset     value\n",
       "0    ws_3  0.047406"
      ]
     },
     "execution_count": 3,
     "metadata": {},
     "output_type": "execute_result"
    }
   ],
   "source": [
    "df_entropy"
   ]
  },
  {
   "cell_type": "code",
   "execution_count": 4,
   "id": "6ef0e543-d4c2-495e-bec4-067f1e541777",
   "metadata": {},
   "outputs": [
    {
     "data": {
      "text/html": [
       "<div>\n",
       "<style scoped>\n",
       "    .dataframe tbody tr th:only-of-type {\n",
       "        vertical-align: middle;\n",
       "    }\n",
       "\n",
       "    .dataframe tbody tr th {\n",
       "        vertical-align: top;\n",
       "    }\n",
       "\n",
       "    .dataframe thead th {\n",
       "        text-align: right;\n",
       "    }\n",
       "</style>\n",
       "<table border=\"1\" class=\"dataframe\">\n",
       "  <thead>\n",
       "    <tr style=\"text-align: right;\">\n",
       "      <th></th>\n",
       "      <th>No.</th>\n",
       "      <th>Time</th>\n",
       "      <th>Source</th>\n",
       "      <th>Destination</th>\n",
       "      <th>Protocol</th>\n",
       "      <th>Length</th>\n",
       "      <th>Info</th>\n",
       "    </tr>\n",
       "  </thead>\n",
       "  <tbody>\n",
       "    <tr>\n",
       "      <th>0</th>\n",
       "      <td>1</td>\n",
       "      <td>0.000000</td>\n",
       "      <td>52.45.193.184</td>\n",
       "      <td>192.168.0.146</td>\n",
       "      <td>TCP</td>\n",
       "      <td>66</td>\n",
       "      <td>443  &gt;  57552 [ACK] Seq=1 Ack=1 Win=115 Len=0 ...</td>\n",
       "    </tr>\n",
       "    <tr>\n",
       "      <th>1</th>\n",
       "      <td>2</td>\n",
       "      <td>0.039953</td>\n",
       "      <td>54.183.142.105</td>\n",
       "      <td>192.168.0.146</td>\n",
       "      <td>TCP</td>\n",
       "      <td>66</td>\n",
       "      <td>443  &gt;  57527 [ACK] Seq=1 Ack=1 Win=442 Len=0 ...</td>\n",
       "    </tr>\n",
       "    <tr>\n",
       "      <th>2</th>\n",
       "      <td>3</td>\n",
       "      <td>0.216789</td>\n",
       "      <td>192.168.0.137</td>\n",
       "      <td>239.255.255.250</td>\n",
       "      <td>SSDP</td>\n",
       "      <td>215</td>\n",
       "      <td>M-SEARCH * HTTP/1.1</td>\n",
       "    </tr>\n",
       "    <tr>\n",
       "      <th>3</th>\n",
       "      <td>4</td>\n",
       "      <td>0.235486</td>\n",
       "      <td>192.168.0.208</td>\n",
       "      <td>192.168.0.255</td>\n",
       "      <td>UDP</td>\n",
       "      <td>305</td>\n",
       "      <td>54915  &gt;  54915 Len=263</td>\n",
       "    </tr>\n",
       "    <tr>\n",
       "      <th>4</th>\n",
       "      <td>5</td>\n",
       "      <td>0.235500</td>\n",
       "      <td>54.183.142.105</td>\n",
       "      <td>192.168.0.146</td>\n",
       "      <td>TLSv1.2</td>\n",
       "      <td>111</td>\n",
       "      <td>Application Data</td>\n",
       "    </tr>\n",
       "    <tr>\n",
       "      <th>...</th>\n",
       "      <td>...</td>\n",
       "      <td>...</td>\n",
       "      <td>...</td>\n",
       "      <td>...</td>\n",
       "      <td>...</td>\n",
       "      <td>...</td>\n",
       "      <td>...</td>\n",
       "    </tr>\n",
       "    <tr>\n",
       "      <th>468025</th>\n",
       "      <td>468026</td>\n",
       "      <td>5885.639871</td>\n",
       "      <td>192.168.0.146</td>\n",
       "      <td>54.183.142.105</td>\n",
       "      <td>TLSv1.2</td>\n",
       "      <td>194</td>\n",
       "      <td>Application Data</td>\n",
       "    </tr>\n",
       "    <tr>\n",
       "      <th>468026</th>\n",
       "      <td>468027</td>\n",
       "      <td>5885.661737</td>\n",
       "      <td>52.114.195.135</td>\n",
       "      <td>192.168.0.146</td>\n",
       "      <td>UDP</td>\n",
       "      <td>236</td>\n",
       "      <td>3480  &gt;  61919 Len=194</td>\n",
       "    </tr>\n",
       "    <tr>\n",
       "      <th>468027</th>\n",
       "      <td>468028</td>\n",
       "      <td>5885.679718</td>\n",
       "      <td>52.114.195.135</td>\n",
       "      <td>192.168.0.146</td>\n",
       "      <td>UDP</td>\n",
       "      <td>236</td>\n",
       "      <td>3480  &gt;  61919 Len=194</td>\n",
       "    </tr>\n",
       "    <tr>\n",
       "      <th>468028</th>\n",
       "      <td>468029</td>\n",
       "      <td>5885.703048</td>\n",
       "      <td>52.114.195.135</td>\n",
       "      <td>192.168.0.146</td>\n",
       "      <td>UDP</td>\n",
       "      <td>236</td>\n",
       "      <td>3480  &gt;  61919 Len=194</td>\n",
       "    </tr>\n",
       "    <tr>\n",
       "      <th>468029</th>\n",
       "      <td>468030</td>\n",
       "      <td>5885.706893</td>\n",
       "      <td>192.168.0.146</td>\n",
       "      <td>52.114.195.135</td>\n",
       "      <td>UDP</td>\n",
       "      <td>81</td>\n",
       "      <td>61919  &gt;  3480 Len=39</td>\n",
       "    </tr>\n",
       "  </tbody>\n",
       "</table>\n",
       "<p>468030 rows × 7 columns</p>\n",
       "</div>"
      ],
      "text/plain": [
       "           No.         Time          Source      Destination Protocol  Length  \\\n",
       "0            1     0.000000   52.45.193.184    192.168.0.146      TCP      66   \n",
       "1            2     0.039953  54.183.142.105    192.168.0.146      TCP      66   \n",
       "2            3     0.216789   192.168.0.137  239.255.255.250     SSDP     215   \n",
       "3            4     0.235486   192.168.0.208    192.168.0.255      UDP     305   \n",
       "4            5     0.235500  54.183.142.105    192.168.0.146  TLSv1.2     111   \n",
       "...        ...          ...             ...              ...      ...     ...   \n",
       "468025  468026  5885.639871   192.168.0.146   54.183.142.105  TLSv1.2     194   \n",
       "468026  468027  5885.661737  52.114.195.135    192.168.0.146      UDP     236   \n",
       "468027  468028  5885.679718  52.114.195.135    192.168.0.146      UDP     236   \n",
       "468028  468029  5885.703048  52.114.195.135    192.168.0.146      UDP     236   \n",
       "468029  468030  5885.706893   192.168.0.146   52.114.195.135      UDP      81   \n",
       "\n",
       "                                                     Info  \n",
       "0       443  >  57552 [ACK] Seq=1 Ack=1 Win=115 Len=0 ...  \n",
       "1       443  >  57527 [ACK] Seq=1 Ack=1 Win=442 Len=0 ...  \n",
       "2                                    M-SEARCH * HTTP/1.1   \n",
       "3                                 54915  >  54915 Len=263  \n",
       "4                                        Application Data  \n",
       "...                                                   ...  \n",
       "468025                                   Application Data  \n",
       "468026                             3480  >  61919 Len=194  \n",
       "468027                             3480  >  61919 Len=194  \n",
       "468028                             3480  >  61919 Len=194  \n",
       "468029                              61919  >  3480 Len=39  \n",
       "\n",
       "[468030 rows x 7 columns]"
      ]
     },
     "execution_count": 4,
     "metadata": {},
     "output_type": "execute_result"
    }
   ],
   "source": [
    "df"
   ]
  },
  {
   "cell_type": "markdown",
   "id": "54e97a18-f5bc-4b5e-9c92-a854de9eca1d",
   "metadata": {},
   "source": [
    "### Apariciones por protocolo"
   ]
  },
  {
   "cell_type": "code",
   "execution_count": 5,
   "id": "7457737b-a29d-4b6a-a370-9ff6a23c249d",
   "metadata": {},
   "outputs": [
    {
     "data": {
      "text/plain": [
       "<AxesSubplot:xlabel='Protocol'>"
      ]
     },
     "execution_count": 5,
     "metadata": {},
     "output_type": "execute_result"
    },
    {
     "data": {
      "image/png": "[encoded data removed]",
      "text/plain": [
       "<Figure size 432x288 with 1 Axes>"
      ]
     },
     "metadata": {
      "needs_background": "light"
     },
     "output_type": "display_data"
    }
   ],
   "source": [
    "df.value_counts(df.Protocol).plot.bar(rot=40)"
   ]
  },
  {
   "cell_type": "code",
   "execution_count": 6,
   "id": "9ef3420d-de45-40b8-8822-f465125fa32a",
   "metadata": {},
   "outputs": [
    {
     "data": {
      "text/plain": [
       "<AxesSubplot:xlabel='Protocol'>"
      ]
     },
     "execution_count": 6,
     "metadata": {},
     "output_type": "execute_result"
    },
    {
     "data": {
      "image/png": "[encoded data removed]",
      "text/plain": [
       "<Figure size 432x288 with 1 Axes>"
      ]
     },
     "metadata": {
      "needs_background": "light"
     },
     "output_type": "display_data"
    }
   ],
   "source": [
    "# Remove TCP & QUIC values\n",
    "df2=df\n",
    "df2 = df2[df2[\"Protocol\"] != \"TCP\"]\n",
    "df2 = df2[df2[\"Protocol\"] != \"QUIC\"]\n",
    "df2.value_counts(df.Protocol).plot.bar(rot=40)"
   ]
  },
  {
   "cell_type": "markdown",
   "id": "61ec44c8-653e-4b8b-97f7-e217efd2833d",
   "metadata": {},
   "source": [
    "### Frecuencia por protocolo"
   ]
  },
  {
   "cell_type": "code",
   "execution_count": 7,
   "id": "8462ddac-7781-4f40-9a48-55e35491d415",
   "metadata": {},
   "outputs": [
    {
     "data": {
      "text/plain": [
       "<AxesSubplot:xlabel='Protocol'>"
      ]
     },
     "execution_count": 7,
     "metadata": {},
     "output_type": "execute_result"
    },
    {
     "data": {
      "image/png": "[encoded data removed]",
      "text/plain": [
       "<Figure size 432x288 with 1 Axes>"
      ]
     },
     "metadata": {
      "needs_background": "light"
     },
     "output_type": "display_data"
    }
   ],
   "source": [
    "\n",
    "df[\"count\"] = df.groupby(\"Protocol\").sum().Length\n",
    "df.value_counts(df.Protocol, normalize=True).plot.bar(rot=40)\n"
   ]
  },
  {
   "cell_type": "markdown",
   "id": "5cdbd548-8222-4d5e-87c9-08c2e70d3009",
   "metadata": {},
   "source": [
    "# Frecuencia por protocolo"
   ]
  },
  {
   "cell_type": "code",
   "execution_count": 8,
   "id": "011a3fa5-2426-42b8-81fe-513c5da61c53",
   "metadata": {},
   "outputs": [
    {
     "data": {
      "image/png": "[encoded data removed]",
      "text/plain": [
       "<Figure size 432x288 with 1 Axes>"
      ]
     },
     "metadata": {
      "needs_background": "light"
     },
     "output_type": "display_data"
    }
   ],
   "source": [
    "plt.bar(df_freq[\"type\"], df_freq[\"value\"])\n",
    "plt.ylabel(\"Frecuencia\")\n",
    "plt.xlabel(\"Protocolo\")\n",
    "plt.savefig('./results/imgs/freq_{}_info.png'.format(dataset))\n",
    "plt.show()"
   ]
  },
  {
   "cell_type": "code",
   "execution_count": 9,
   "id": "3a36d083-cec4-44f0-8f00-ea9ebfb182d0",
   "metadata": {},
   "outputs": [
    {
     "data": {
      "text/html": [
       "<div>\n",
       "<style scoped>\n",
       "    .dataframe tbody tr th:only-of-type {\n",
       "        vertical-align: middle;\n",
       "    }\n",
       "\n",
       "    .dataframe tbody tr th {\n",
       "        vertical-align: top;\n",
       "    }\n",
       "\n",
       "    .dataframe thead th {\n",
       "        text-align: right;\n",
       "    }\n",
       "</style>\n",
       "<table border=\"1\" class=\"dataframe\">\n",
       "  <thead>\n",
       "    <tr style=\"text-align: right;\">\n",
       "      <th></th>\n",
       "      <th>type</th>\n",
       "      <th>value</th>\n",
       "    </tr>\n",
       "  </thead>\n",
       "  <tbody>\n",
       "    <tr>\n",
       "      <th>0</th>\n",
       "      <td>IPV4</td>\n",
       "      <td>0.995276</td>\n",
       "    </tr>\n",
       "    <tr>\n",
       "      <th>1</th>\n",
       "      <td>ARP</td>\n",
       "      <td>0.003347</td>\n",
       "    </tr>\n",
       "    <tr>\n",
       "      <th>2</th>\n",
       "      <td>IPV6</td>\n",
       "      <td>0.001377</td>\n",
       "    </tr>\n",
       "  </tbody>\n",
       "</table>\n",
       "</div>"
      ],
      "text/plain": [
       "   type     value\n",
       "0  IPV4  0.995276\n",
       "1   ARP  0.003347\n",
       "2  IPV6  0.001377"
      ]
     },
     "execution_count": 9,
     "metadata": {},
     "output_type": "execute_result"
    }
   ],
   "source": [
    "df_freq"
   ]
  },
  {
   "cell_type": "markdown",
   "id": "1a6e2949-3227-4f20-9bcd-ac843ec04c33",
   "metadata": {},
   "source": [
    "# Informacion por protocolo"
   ]
  },
  {
   "cell_type": "code",
   "execution_count": 10,
   "id": "2da012ff-d0f8-4ee4-b7af-f43e56989f29",
   "metadata": {},
   "outputs": [
    {
     "data": {
      "image/png": "[encoded data removed]",
      "text/plain": [
       "<Figure size 432x288 with 1 Axes>"
      ]
     },
     "metadata": {
      "needs_background": "light"
     },
     "output_type": "display_data"
    }
   ],
   "source": [
    "plt.bar(df_info[\"type\"], df_info[\"value\"])\n",
    "plt.xlabel(\"Protocolo\")\n",
    "plt.ylabel(\"Information\")\n",
    "entropy = df_entropy[df_entropy[\"dataset\"]==dataset][\"value\"].item()\n",
    "plt.axhline(y=entropy, color='r', linestyle='-')\n",
    "\n",
    "#plt.text(-1.1,entropy,'Entropia')\n",
    "plt.savefig('./results/imgs/info_{}_info.png'.format(dataset))\n",
    "plt.show()\n"
   ]
  },
  {
   "cell_type": "code",
   "execution_count": 11,
   "id": "cf3874c5-94da-42d7-91c6-5f905ea5dcc1",
   "metadata": {},
   "outputs": [
    {
     "data": {
      "text/plain": [
       "<BarContainer object of 2 artists>"
      ]
     },
     "execution_count": 11,
     "metadata": {},
     "output_type": "execute_result"
    },
    {
     "data": {
      "image/png": "[encoded data removed]",
      "text/plain": [
       "<Figure size 432x288 with 1 Axes>"
      ]
     },
     "metadata": {
      "needs_background": "light"
     },
     "output_type": "display_data"
    }
   ],
   "source": [
    "plt.bar(df_broadunicast[\"type\"], df_broadunicast[\"value\"])"
   ]
  },
  {
   "cell_type": "code",
   "execution_count": null,
   "id": "443d904a-aaec-43e8-bd55-12f3a10742eb",
   "metadata": {},
   "outputs": [],
   "source": []
  },
  {
   "cell_type": "code",
   "execution_count": 15,
   "id": "36d9bf76-79fb-4605-bc3a-8ff3d78564ce",
   "metadata": {},
   "outputs": [],
   "source": [
    "df_broadunicast[\"percent\"] = df_broadunicast[\"value\"]/df_broadunicast[\"value\"].sum()"
   ]
  },
  {
   "cell_type": "code",
   "execution_count": 19,
   "id": "2e6a59d1-a1ed-4e8f-8e81-9d58b2f77c3a",
   "metadata": {},
   "outputs": [
    {
     "data": {
      "image/png": "[encoded data removed]",
      "text/plain": [
       "<Figure size 432x288 with 1 Axes>"
      ]
     },
     "metadata": {
      "needs_background": "light"
     },
     "output_type": "display_data"
    }
   ],
   "source": [
    "plt.bar(df_broadunicast[\"type\"], df_broadunicast[\"percent\"])\n",
    "plt.xlabel(\"Protocolo\")\n",
    "plt.ylabel(\"Porcentaje\")\n",
    "\n",
    "plt.savefig('./results/imgs/broadunicast_{}_info.png'.format(dataset))\n",
    "plt.show()"
   ]
  },
  {
   "cell_type": "code",
   "execution_count": null,
   "id": "66a412ba-5926-4c1f-97ed-fff9c3a9b7d8",
   "metadata": {},
   "outputs": [],
   "source": []
  }
 ],
 "metadata": {
  "kernelspec": {
   "display_name": "Python 3 (ipykernel)",
   "language": "python",
   "name": "python3"
  },
  "language_info": {
   "codemirror_mode": {
    "name": "ipython",
    "version": 3
   },
   "file_extension": ".py",
   "mimetype": "text/x-python",
   "name": "python",
   "nbconvert_exporter": "python",
   "pygments_lexer": "ipython3",
   "version": "3.8.2"
  }
 },
 "nbformat": 4,
 "nbformat_minor": 5
}

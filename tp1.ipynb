{
 "cells": [
  {
   "cell_type": "code",
   "execution_count": 2,
   "id": "854c05b3-6b0b-4837-ac1d-ebedc1573852",
   "metadata": {},
   "outputs": [],
   "source": [
    "import pandas as pd"
   ]
  },
  {
   "cell_type": "code",
   "execution_count": null,
   "id": "6104c928-e4d3-4f12-9601-f8ef1c567e81",
   "metadata": {},
   "outputs": [],
   "source": []
  },
  {
   "cell_type": "code",
   "execution_count": 77,
   "id": "8454eba5-4c78-43ea-99e9-70cbd54a3be5",
   "metadata": {},
   "outputs": [],
   "source": [
    "df = pd.read_csv(\"output/ws_2.csv\")"
   ]
  },
  {
   "cell_type": "code",
   "execution_count": null,
   "id": "71f8bd3e-c36d-4c78-b881-25463d4354b2",
   "metadata": {},
   "outputs": [],
   "source": []
  },
  {
   "cell_type": "code",
   "execution_count": 78,
   "id": "6ef0e543-d4c2-495e-bec4-067f1e541777",
   "metadata": {},
   "outputs": [
    {
     "data": {
      "text/html": [
       "<div>\n",
       "<style scoped>\n",
       "    .dataframe tbody tr th:only-of-type {\n",
       "        vertical-align: middle;\n",
       "    }\n",
       "\n",
       "    .dataframe tbody tr th {\n",
       "        vertical-align: top;\n",
       "    }\n",
       "\n",
       "    .dataframe thead th {\n",
       "        text-align: right;\n",
       "    }\n",
       "</style>\n",
       "<table border=\"1\" class=\"dataframe\">\n",
       "  <thead>\n",
       "    <tr style=\"text-align: right;\">\n",
       "      <th></th>\n",
       "      <th>No.</th>\n",
       "      <th>Time</th>\n",
       "      <th>Source</th>\n",
       "      <th>Destination</th>\n",
       "      <th>Protocol</th>\n",
       "      <th>Length</th>\n",
       "      <th>Info</th>\n",
       "    </tr>\n",
       "  </thead>\n",
       "  <tbody>\n",
       "    <tr>\n",
       "      <th>0</th>\n",
       "      <td>1</td>\n",
       "      <td>0.000000</td>\n",
       "      <td>50.18.194.39</td>\n",
       "      <td>192.168.0.146</td>\n",
       "      <td>TCP</td>\n",
       "      <td>66</td>\n",
       "      <td>443  &gt;  49660 [ACK] Seq=1 Ack=1 Win=442 Len=0 ...</td>\n",
       "    </tr>\n",
       "    <tr>\n",
       "      <th>1</th>\n",
       "      <td>2</td>\n",
       "      <td>0.000013</td>\n",
       "      <td>50.18.194.39</td>\n",
       "      <td>192.168.0.146</td>\n",
       "      <td>TLSv1.2</td>\n",
       "      <td>111</td>\n",
       "      <td>Application Data</td>\n",
       "    </tr>\n",
       "    <tr>\n",
       "      <th>2</th>\n",
       "      <td>3</td>\n",
       "      <td>0.000017</td>\n",
       "      <td>50.18.194.39</td>\n",
       "      <td>192.168.0.146</td>\n",
       "      <td>TLSv1.2</td>\n",
       "      <td>191</td>\n",
       "      <td>Application Data</td>\n",
       "    </tr>\n",
       "    <tr>\n",
       "      <th>3</th>\n",
       "      <td>4</td>\n",
       "      <td>0.000223</td>\n",
       "      <td>192.168.0.146</td>\n",
       "      <td>50.18.194.39</td>\n",
       "      <td>TLSv1.2</td>\n",
       "      <td>492</td>\n",
       "      <td>Application Data</td>\n",
       "    </tr>\n",
       "    <tr>\n",
       "      <th>4</th>\n",
       "      <td>5</td>\n",
       "      <td>0.000224</td>\n",
       "      <td>192.168.0.146</td>\n",
       "      <td>50.18.194.39</td>\n",
       "      <td>TCP</td>\n",
       "      <td>66</td>\n",
       "      <td>49660  &gt;  443 [ACK] Seq=427 Ack=171 Win=2045 L...</td>\n",
       "    </tr>\n",
       "    <tr>\n",
       "      <th>...</th>\n",
       "      <td>...</td>\n",
       "      <td>...</td>\n",
       "      <td>...</td>\n",
       "      <td>...</td>\n",
       "      <td>...</td>\n",
       "      <td>...</td>\n",
       "      <td>...</td>\n",
       "    </tr>\n",
       "    <tr>\n",
       "      <th>975</th>\n",
       "      <td>976</td>\n",
       "      <td>132.144795</td>\n",
       "      <td>192.168.0.208</td>\n",
       "      <td>192.168.0.255</td>\n",
       "      <td>UDP</td>\n",
       "      <td>305</td>\n",
       "      <td>54915  &gt;  54915 Len=263</td>\n",
       "    </tr>\n",
       "    <tr>\n",
       "      <th>976</th>\n",
       "      <td>977</td>\n",
       "      <td>132.245537</td>\n",
       "      <td>199.232.114.49</td>\n",
       "      <td>192.168.0.146</td>\n",
       "      <td>TCP</td>\n",
       "      <td>66</td>\n",
       "      <td>[TCP Dup ACK 376#2] [TCP ACKed unseen segment]...</td>\n",
       "    </tr>\n",
       "    <tr>\n",
       "      <th>977</th>\n",
       "      <td>978</td>\n",
       "      <td>132.284666</td>\n",
       "      <td>192.168.0.146</td>\n",
       "      <td>50.18.194.39</td>\n",
       "      <td>TLSv1.2</td>\n",
       "      <td>450</td>\n",
       "      <td>Application Data</td>\n",
       "    </tr>\n",
       "    <tr>\n",
       "      <th>978</th>\n",
       "      <td>979</td>\n",
       "      <td>132.552009</td>\n",
       "      <td>50.18.194.39</td>\n",
       "      <td>192.168.0.146</td>\n",
       "      <td>TCP</td>\n",
       "      <td>66</td>\n",
       "      <td>443  &gt;  49660 [ACK] Seq=1240 Ack=5841 Win=442 ...</td>\n",
       "    </tr>\n",
       "    <tr>\n",
       "      <th>979</th>\n",
       "      <td>980</td>\n",
       "      <td>132.552085</td>\n",
       "      <td>192.168.0.146</td>\n",
       "      <td>50.18.194.39</td>\n",
       "      <td>TLSv1.2</td>\n",
       "      <td>570</td>\n",
       "      <td>Application Data, Application Data</td>\n",
       "    </tr>\n",
       "  </tbody>\n",
       "</table>\n",
       "<p>980 rows × 7 columns</p>\n",
       "</div>"
      ],
      "text/plain": [
       "     No.        Time          Source    Destination Protocol  Length  \\\n",
       "0      1    0.000000    50.18.194.39  192.168.0.146      TCP      66   \n",
       "1      2    0.000013    50.18.194.39  192.168.0.146  TLSv1.2     111   \n",
       "2      3    0.000017    50.18.194.39  192.168.0.146  TLSv1.2     191   \n",
       "3      4    0.000223   192.168.0.146   50.18.194.39  TLSv1.2     492   \n",
       "4      5    0.000224   192.168.0.146   50.18.194.39      TCP      66   \n",
       "..   ...         ...             ...            ...      ...     ...   \n",
       "975  976  132.144795   192.168.0.208  192.168.0.255      UDP     305   \n",
       "976  977  132.245537  199.232.114.49  192.168.0.146      TCP      66   \n",
       "977  978  132.284666   192.168.0.146   50.18.194.39  TLSv1.2     450   \n",
       "978  979  132.552009    50.18.194.39  192.168.0.146      TCP      66   \n",
       "979  980  132.552085   192.168.0.146   50.18.194.39  TLSv1.2     570   \n",
       "\n",
       "                                                  Info  \n",
       "0    443  >  49660 [ACK] Seq=1 Ack=1 Win=442 Len=0 ...  \n",
       "1                                     Application Data  \n",
       "2                                     Application Data  \n",
       "3                                     Application Data  \n",
       "4    49660  >  443 [ACK] Seq=427 Ack=171 Win=2045 L...  \n",
       "..                                                 ...  \n",
       "975                            54915  >  54915 Len=263  \n",
       "976  [TCP Dup ACK 376#2] [TCP ACKed unseen segment]...  \n",
       "977                                   Application Data  \n",
       "978  443  >  49660 [ACK] Seq=1240 Ack=5841 Win=442 ...  \n",
       "979                 Application Data, Application Data  \n",
       "\n",
       "[980 rows x 7 columns]"
      ]
     },
     "execution_count": 78,
     "metadata": {},
     "output_type": "execute_result"
    }
   ],
   "source": [
    "df"
   ]
  },
  {
   "cell_type": "markdown",
   "id": "54e97a18-f5bc-4b5e-9c92-a854de9eca1d",
   "metadata": {},
   "source": [
    "### Apariciones por protocolo"
   ]
  },
  {
   "cell_type": "code",
   "execution_count": 79,
   "id": "7457737b-a29d-4b6a-a370-9ff6a23c249d",
   "metadata": {},
   "outputs": [
    {
     "data": {
      "text/plain": [
       "<AxesSubplot:xlabel='Protocol'>"
      ]
     },
     "execution_count": 79,
     "metadata": {},
     "output_type": "execute_result"
    },
    {
     "data": {
      "image/png": "[encoded data removed]",
      "text/plain": [
       "<Figure size 432x288 with 1 Axes>"
      ]
     },
     "metadata": {
      "needs_background": "light"
     },
     "output_type": "display_data"
    }
   ],
   "source": [
    "df.value_counts(df.Protocol).plot.bar(rot=40)"
   ]
  },
  {
   "cell_type": "code",
   "execution_count": 32,
   "id": "9ef3420d-de45-40b8-8822-f465125fa32a",
   "metadata": {},
   "outputs": [
    {
     "data": {
      "text/plain": [
       "<AxesSubplot:xlabel='Protocol'>"
      ]
     },
     "execution_count": 32,
     "metadata": {},
     "output_type": "execute_result"
    },
    {
     "data": {
      "image/png": "[encoded data removed]",
      "text/plain": [
       "<Figure size 432x288 with 1 Axes>"
      ]
     },
     "metadata": {
      "needs_background": "light"
     },
     "output_type": "display_data"
    }
   ],
   "source": [
    "# Remove TCP & QUIC values\n",
    "df2 = df2[df2[\"Protocol\"] != \"TCP\"]\n",
    "df2 = df2[df2[\"Protocol\"] != \"QUIC\"]\n",
    "df2.value_counts(df.Protocol).plot.bar(rot=40)"
   ]
  },
  {
   "cell_type": "markdown",
   "id": "61ec44c8-653e-4b8b-97f7-e217efd2833d",
   "metadata": {},
   "source": [
    "### Frecuencia por protocolo"
   ]
  },
  {
   "cell_type": "code",
   "execution_count": 76,
   "id": "8462ddac-7781-4f40-9a48-55e35491d415",
   "metadata": {},
   "outputs": [
    {
     "data": {
      "text/plain": [
       "<AxesSubplot:xlabel='Protocol'>"
      ]
     },
     "execution_count": 76,
     "metadata": {},
     "output_type": "execute_result"
    },
    {
     "data": {
      "image/png": "[encoded data removed]",
      "text/plain": [
       "<Figure size 432x288 with 1 Axes>"
      ]
     },
     "metadata": {
      "needs_background": "light"
     },
     "output_type": "display_data"
    }
   ],
   "source": [
    "\n",
    "#df[\"count\"] = df.value_counts(df.Protocol)\n",
    "#df.value_counts(df.Protocol)\n",
    "df[\"count\"] = df.groupby(\"Protocol\").sum().Length\n",
    "df.value_counts(df.Protocol, normalize=True).plot.bar(rot=40)\n"
   ]
  },
  {
   "cell_type": "code",
   "execution_count": null,
   "id": "9b1525bd-575e-4654-96e8-978817d7679b",
   "metadata": {},
   "outputs": [],
   "source": []
  }
 ],
 "metadata": {
  "kernelspec": {
   "display_name": "Python 3 (ipykernel)",
   "language": "python",
   "name": "python3"
  },
  "language_info": {
   "codemirror_mode": {
    "name": "ipython",
    "version": 3
   },
   "file_extension": ".py",
   "mimetype": "text/x-python",
   "name": "python",
   "nbconvert_exporter": "python",
   "pygments_lexer": "ipython3",
   "version": "3.8.2"
  }
 },
 "nbformat": 4,
 "nbformat_minor": 5
}
